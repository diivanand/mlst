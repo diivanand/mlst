{
 "metadata": {
  "name": "Mlst"
 },
 "nbformat": 3,
 "nbformat_minor": 0,
 "worksheets": [
  {
   "cells": [
    {
     "cell_type": "code",
     "collapsed": false,
     "input": [
      "import networkx as nx\n",
      "import UnionFind as uf\n",
      "import MinimumSpanningTree as mst\n",
      "import itertools as it"
     ],
     "language": "python",
     "metadata": {},
     "outputs": [],
     "prompt_number": 1
    },
    {
     "cell_type": "code",
     "collapsed": false,
     "input": [
      "def setEdgeWeights(G):\n",
      "    \"\"\"\n",
      "    Input: Unweighted networkx undirected graph G\n",
      "    Output: Weighted networkx undirected graph where weight of edge is max degree of its endpoint vertexes\n",
      "    \"\"\"\n",
      "    for e in G.edges():\n",
      "        src_deg = G.degree(e[0])\n",
      "        trg_deg = G.degree(e[1])\n",
      "        G.edge[e[0]][e[1]]['weight'] = max([src_deg,trg_deg])"
     ],
     "language": "python",
     "metadata": {},
     "outputs": [],
     "prompt_number": 2
    },
    {
     "cell_type": "code",
     "collapsed": false,
     "input": [
      "def unityEdgeWeights(G):\n",
      "    \"\"\"\n",
      "    Input: Unweighted networkx undirected graph G\n",
      "    Output: Weighted networkx undirected graph where weight of edge is one\n",
      "    \"\"\"\n",
      "    for e in G.edges():\n",
      "        G.edge[e[0]][e[1]]['weight'] = 1"
     ],
     "language": "python",
     "metadata": {},
     "outputs": [],
     "prompt_number": 3
    },
    {
     "cell_type": "code",
     "collapsed": false,
     "input": [
      "def degBasedMST(G):\n",
      "    \"\"\"\n",
      "    Input: Unweighted or Weighted networkx undirected graph G (Caution weights will be overwritten)\n",
      "    Output: MST of G where weight of edge is max degree of its endpoint vertexes\n",
      "    \"\"\"\n",
      "    setEdgeWeights(G)\n",
      "    T = nx.algorithms.mst.minimum_spanning_tree(G)\n",
      "    return T"
     ],
     "language": "python",
     "metadata": {},
     "outputs": [],
     "prompt_number": 4
    },
    {
     "cell_type": "code",
     "collapsed": false,
     "input": [
      "def unityMST(G):\n",
      "    \"\"\"\n",
      "    Input: Unweighted or Weighted networkx undirected graph G (Caution weights will be overwritten)\n",
      "    Output: MST of G where all edge weights are one\n",
      "    \"\"\"\n",
      "    T = nx.algorithms.mst.minimum_spanning_tree(G)\n",
      "    return T"
     ],
     "language": "python",
     "metadata": {},
     "outputs": [],
     "prompt_number": 5
    },
    {
     "cell_type": "code",
     "collapsed": false,
     "input": [
      "def one_edge_swap(G):\n",
      "    \"\"\" \n",
      "    Input: Spanning tree T and original graph G \n",
      "    Output: Generate a T one edge swap output\n",
      "    \"\"\"\n",
      "   \n",
      "    T = degBasedMST(G);\n",
      "\n",
      "    for e in list(set(G.edges()).difference(set(T.edges()))):\n",
      "        U = T.copy()\n",
      "        \n",
      "        path = nx.shortest_path(T, e[0], e[1])\n",
      "\n",
      "        for f in zip(path[0:],path[1:]):\n",
      "            Degrees = list(T.degree(T.nodes()).values())\n",
      "            \n",
      "            U.add_edge(e[0],e[1])\n",
      "            U.remove_edge(f[0],f[1])\n",
      "\n",
      "            newDegrees = list(U.degree(U.nodes()).values()) \n",
      "\n",
      "            print newDegrees.count(1) \n",
      "            print Degrees.count(1)\n",
      "\n",
      "            if newDegrees.count(1) > Degrees.count(1): \n",
      "                print \"Changing\"\n",
      "                T = U.copy()\n",
      "\n",
      "            U.add_edge(f[0],f[1]);\n",
      "\n",
      "    return T"
     ],
     "language": "python",
     "metadata": {},
     "outputs": [],
     "prompt_number": 6
    },
    {
     "cell_type": "code",
     "collapsed": false,
     "input": [
      "def two_edge_swap(G):\n",
      "    \"\"\" \n",
      "    Input: Spanning tree T and original graph G \n",
      "    Output: Generate a T one edge swap output\n",
      "    \"\"\"\n",
      "\n",
      "    T = degBasedMST(G);\n",
      "\n",
      "    M = count_iterable(it.combinations(list(set(G.edges()).difference(set(T.edges()))),2))\n",
      "    print M\n",
      "\n",
      "    i = 1\n",
      "    for e1,e2 in it.combinations(list(set(G.edges()).difference(set(T.edges()))),2):\n",
      "        i += 1\n",
      "\n",
      "        U = T.copy()\n",
      "        Degrees = list(T.degree(T.nodes()).values())\n",
      "        \n",
      "        path1 = nx.shortest_path(T, e1[0], e1[1])\n",
      "\n",
      "        for f1 in zip(path1[0:],path1[1:]):\n",
      "            \n",
      "            U.add_edge(e1[0],e1[1])\n",
      "            U.remove_edge(f1[0],f1[1])\n",
      "\n",
      "            path2 = nx.shortest_path(T, e2[0], e2[1])\n",
      "\n",
      "            for f2 in zip(path2[0:],path2[1:]):\n",
      "                    \n",
      "                U.add_edge(e2[0],e2[1])\n",
      "                \n",
      "                if (tuple([f2[0],f2[1]]) in U.edges()):\n",
      "                    U.remove_edge(f2[0],f2[1])\n",
      "                \n",
      "                newDegrees = list(U.degree(U.nodes()).values()) \n",
      "\n",
      "                if newDegrees.count(1) > Degrees.count(1):\n",
      "                    print newDegrees.count(1)\n",
      "                    print i\n",
      "                    T = U.copy()\n",
      "                    Degrees = list(T.degree(T.nodes()).values())\n",
      "\n",
      "                U.add_edge(f2[0],f2[1]);\n",
      "\n",
      "            U.add_edge(f1[0],f1[1]);\n",
      "\n",
      "    return T"
     ],
     "language": "python",
     "metadata": {},
     "outputs": [],
     "prompt_number": 7
    },
    {
     "cell_type": "code",
     "collapsed": false,
     "input": [
      "def leaves(T):\n",
      "    return list(T.degree(T.nodes()).values()).count(1)\n",
      "\n",
      "def count_iterable(i):\n",
      "    return sum(1 for e in i)"
     ],
     "language": "python",
     "metadata": {},
     "outputs": [],
     "prompt_number": 8
    },
    {
     "cell_type": "code",
     "collapsed": false,
     "input": [],
     "language": "python",
     "metadata": {},
     "outputs": []
    }
   ],
   "metadata": {}
  }
 ]
}