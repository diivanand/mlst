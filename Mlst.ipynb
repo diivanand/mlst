{
 "metadata": {
  "name": "cs170 mlst"
 },
 "nbformat": 3,
 "nbformat_minor": 0,
 "worksheets": [
  {
   "cells": [
    {
     "cell_type": "code",
     "collapsed": false,
     "input": [
      "import networkx as nx\n",
      "import UnionFind as uf\n",
      "import MinimumSpanningTree as mst"
     ],
     "language": "python",
     "metadata": {},
     "outputs": [],
     "prompt_number": 4
    },
    {
     "cell_type": "code",
     "collapsed": false,
     "input": [
      "def setEdgeWeights(G):\n",
      "    \"\"\"\n",
      "    Input: Unweighted networkx undirected graph G\n",
      "    Output: Weighted networkx undirected graph where weight of edge is max degree of its endpoint vertexes\n",
      "    \"\"\"\n",
      "    for e in G.edges():\n",
      "        src_deg = G.degree(e[0])\n",
      "        trg_deg = G.degree(e[1])\n",
      "        G.edge[e[0]][e[1]]['weight'] = max([src_deg,trg_deg])"
     ],
     "language": "python",
     "metadata": {},
     "outputs": [],
     "prompt_number": 7
    },
    {
     "cell_type": "code",
     "collapsed": false,
     "input": [
      "def deg_based_MST(G):\n",
      "    \"\"\"\n",
      "    Input: Unweighted or Weighted networkx undirected graph G (Caution weights will be overwritten)\n",
      "    Output: MST of G where weight of edge is max degree of its endpoint vertexes\n",
      "    \"\"\"\n",
      "    setEdgeWeights(G)\n",
      "    return MinimumSpanningTree(G)"
     ],
     "language": "python",
     "metadata": {},
     "outputs": [],
     "prompt_number": 14
    },
    {
     "cell_type": "code",
     "collapsed": false,
     "input": [],
     "language": "python",
     "metadata": {},
     "outputs": []
    }
   ],
   "metadata": {}
  }
 ]
}